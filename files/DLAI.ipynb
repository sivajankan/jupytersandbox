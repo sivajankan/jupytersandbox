{
 "cells": [
  {
   "cell_type": "code",
   "execution_count": 19,
   "id": "ead0df3b-48ff-4d74-81ce-f24bbe09d967",
   "metadata": {},
   "outputs": [
    {
     "name": "stdout",
     "output_type": "stream",
     "text": [
      "this is a test  2024-05-05   17:29:13.956550\n"
     ]
    }
   ],
   "source": [
    "import datetime\n",
    "print(\"this is a test \", datetime.datetime.now().date(), \" \", datetime.datetime.now().time())"
   ]
  },
  {
   "cell_type": "code",
   "execution_count": 20,
   "id": "5d69db13-2a53-4fde-993d-b6a6891398ab",
   "metadata": {},
   "outputs": [],
   "source": [
    "from transformers.utils import logging\n",
    "logging.set_verbosity_error()"
   ]
  },
  {
   "cell_type": "code",
   "execution_count": 21,
   "id": "093e48e1-d32c-4c65-a600-158807458239",
   "metadata": {},
   "outputs": [],
   "source": [
    "from transformers import pipeline"
   ]
  },
  {
   "cell_type": "code",
   "execution_count": 22,
   "id": "7c293294-9955-4219-b313-5b2a8c6ae75c",
   "metadata": {},
   "outputs": [],
   "source": [
    "# following steps need pytorch \n",
    "# from transformers import AutoTokenizer, AutoModelForSeq2SeqLM\n",
    "# tokenizer = AutoTokenizer.from_pretrained(\"facebook/blenderbot-400M-distill\")\n",
    "# model = AutoModelForSeq2SeqLM.from_pretrained(\"facebook/blenderbot-400M-distill\")"
   ]
  },
  {
   "cell_type": "code",
   "execution_count": 23,
   "id": "afd745cd-fdf5-4a4f-8e3e-968e071096b7",
   "metadata": {},
   "outputs": [],
   "source": [
    "# this step from https://huggingface.co/facebook/blenderbot-400M-distill \n",
    "# - \"use transformer\" suggestion\n",
    "# to check remote model loading\n",
    "pipe = pipeline(\"text2text-generation\", model=\"facebook/blenderbot-400M-distill\")\n"
   ]
  },
  {
   "cell_type": "code",
   "execution_count": 24,
   "id": "f5232bbb-d3b7-444a-9e8c-14ba8b960301",
   "metadata": {},
   "outputs": [],
   "source": [
    "chatbot = pipeline(task=\"conversational\",\n",
    "                   model=\"facebook/blenderbot-400M-distill\")"
   ]
  },
  {
   "cell_type": "code",
   "execution_count": 25,
   "id": "eef07c70-eba0-418d-9bf3-ee1d1c602e4e",
   "metadata": {},
   "outputs": [],
   "source": [
    "user_message = \"\"\"\n",
    "What are some fun activities I can do in the winter?\n",
    "\"\"\""
   ]
  },
  {
   "cell_type": "code",
   "execution_count": 26,
   "id": "ff98cd0b-c6b1-489b-ba83-0abd1d761db8",
   "metadata": {},
   "outputs": [],
   "source": [
    "from transformers import Conversation"
   ]
  },
  {
   "cell_type": "code",
   "execution_count": 27,
   "id": "0f45c9e4-a65b-4ec2-81a7-df36f7a7c739",
   "metadata": {},
   "outputs": [],
   "source": [
    "conversation = Conversation(user_message)"
   ]
  },
  {
   "cell_type": "code",
   "execution_count": 28,
   "id": "97e4eca7-574d-41ef-b4a0-7267ec2155f2",
   "metadata": {},
   "outputs": [
    {
     "name": "stdout",
     "output_type": "stream",
     "text": [
      "Conversation id: e6145a45-ab02-4260-a5d8-574283cd199f\n",
      "user: \n",
      "What are some fun activities I can do in the winter?\n",
      "\n",
      "\n"
     ]
    }
   ],
   "source": [
    "print(conversation)"
   ]
  },
  {
   "cell_type": "code",
   "execution_count": 29,
   "id": "4c540c7d-e1e4-485a-8ffd-630fe3cc67db",
   "metadata": {},
   "outputs": [],
   "source": [
    "conversation = chatbot(conversation)"
   ]
  },
  {
   "cell_type": "code",
   "execution_count": 30,
   "id": "de5027e9-0e84-4fdb-84b3-b53803c150ef",
   "metadata": {},
   "outputs": [
    {
     "name": "stdout",
     "output_type": "stream",
     "text": [
      "Conversation id: e6145a45-ab02-4260-a5d8-574283cd199f\n",
      "user: \n",
      "What are some fun activities I can do in the winter?\n",
      "\n",
      "assistant:  I like to go snowboarding in the winter.  It's a lot of fun.\n",
      "\n"
     ]
    }
   ],
   "source": [
    "print(conversation)"
   ]
  },
  {
   "cell_type": "code",
   "execution_count": 31,
   "id": "aeb5f79f-7e24-4041-a826-40d8db502fb5",
   "metadata": {},
   "outputs": [],
   "source": [
    "conversation.add_message(\n",
    "    {\"role\": \"user\",\n",
    "     \"content\": \"\"\"\n",
    "What else do you recommend?\n",
    "\"\"\"\n",
    "    })"
   ]
  },
  {
   "cell_type": "code",
   "execution_count": 32,
   "id": "faa8baca-b9f5-4e7a-8613-90b636bdfa9e",
   "metadata": {},
   "outputs": [
    {
     "name": "stdout",
     "output_type": "stream",
     "text": [
      "Conversation id: e6145a45-ab02-4260-a5d8-574283cd199f\n",
      "user: \n",
      "What are some fun activities I can do in the winter?\n",
      "\n",
      "assistant:  I like to go snowboarding in the winter.  It's a lot of fun.\n",
      "user: \n",
      "What else do you recommend?\n",
      "\n",
      "\n"
     ]
    }
   ],
   "source": [
    "print(conversation)"
   ]
  },
  {
   "cell_type": "code",
   "execution_count": 33,
   "id": "6c254154-a757-4294-9ea4-218e8648f779",
   "metadata": {},
   "outputs": [
    {
     "name": "stdout",
     "output_type": "stream",
     "text": [
      "Conversation id: e6145a45-ab02-4260-a5d8-574283cd199f\n",
      "user: \n",
      "What are some fun activities I can do in the winter?\n",
      "\n",
      "assistant:  I like to go snowboarding in the winter.  It's a lot of fun.\n",
      "user: \n",
      "What else do you recommend?\n",
      "\n",
      "assistant:  Snowboarding is a lot of fun.  You should try it sometime.\n",
      "\n"
     ]
    }
   ],
   "source": [
    "conversation = chatbot(conversation)\n",
    "\n",
    "print(conversation)"
   ]
  },
  {
   "cell_type": "code",
   "execution_count": null,
   "id": "4995fb8b-5f1d-4baa-ad86-c103ed5a5a30",
   "metadata": {},
   "outputs": [],
   "source": []
  }
 ],
 "metadata": {
  "kernelspec": {
   "display_name": "Python 3 (ipykernel)",
   "language": "python",
   "name": "python3"
  },
  "language_info": {
   "codemirror_mode": {
    "name": "ipython",
    "version": 3
   },
   "file_extension": ".py",
   "mimetype": "text/x-python",
   "name": "python",
   "nbconvert_exporter": "python",
   "pygments_lexer": "ipython3",
   "version": "3.11.6"
  }
 },
 "nbformat": 4,
 "nbformat_minor": 5
}
